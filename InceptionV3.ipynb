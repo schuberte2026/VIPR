{
 "cells": [
  {
   "cell_type": "markdown",
   "id": "4641f372",
   "metadata": {},
   "source": [
    "## Purpose\n",
    "The purpose of this notebook to train a K-Means clustering algorithm to classify paralyzed vs non-paralyzed vocal cords from ultrasound images.<br>\n",
    "\n",
    "0 - not paralyzed\n",
    "1 - paralyzed"
   ]
  },
  {
   "cell_type": "markdown",
   "id": "70f09e12",
   "metadata": {},
   "source": [
    "This cell contains the imports needed for the program."
   ]
  },
  {
   "cell_type": "code",
   "execution_count": 1,
   "id": "2a452fe8",
   "metadata": {},
   "outputs": [],
   "source": [
    "import numpy as np\n",
    "import torch\n",
    "import torch.nn as nn\n",
    "from torch.utils.data import Dataset, DataLoader\n",
    "from torchvision import transforms, models\n",
    "from PIL import Image\n",
    "import os\n",
    "from tqdm import tqdm\n",
    "import csv\n",
    "from IPython.display import clear_output\n",
    "import matplotlib.pyplot as plt"
   ]
  },
  {
   "cell_type": "markdown",
   "id": "a7a69be3",
   "metadata": {},
   "source": [
    "This cell creates a folder to save the models."
   ]
  },
  {
   "cell_type": "code",
   "execution_count": 2,
   "id": "4a0eaadd",
   "metadata": {},
   "outputs": [],
   "source": [
    "try:\n",
    "    if not os.path.exists('models'):\n",
    "        os.makedirs('models')\n",
    "except OSError:\n",
    "    print('Error creating data directory.')"
   ]
  },
  {
   "cell_type": "markdown",
   "id": "106b7f15",
   "metadata": {},
   "source": [
    "Image filename meanings:\n",
    "- Healthy - regular healthy images of vocal cords\n",
    "- Healthy2 - split in half, and blended back together images of healthy vocal cords, hopefully helps alleviate a potential mdodel issue with artifacts in the synthetic images.\n",
    "- Leftpar - synthetic image, with the left side of the image stretched 50% vertically, right side is original image. \n",
    "- Rightpar - synthetic image, with the right side of the image stretched 50% vertically, left side is original image."
   ]
  },
  {
   "cell_type": "markdown",
   "id": "e6636c83",
   "metadata": {},
   "source": [
    "Defining a dataset class for our specific images."
   ]
  },
  {
   "cell_type": "code",
   "execution_count": 3,
   "id": "07697063",
   "metadata": {},
   "outputs": [],
   "source": [
    "import os\n",
    "from PIL import Image\n",
    "from torch.utils.data import Dataset\n",
    "from torchvision import transforms\n",
    "\n",
    "class CustomDataset(Dataset):\n",
    "    def __init__(self, img_dir, transform=None):\n",
    "        self.img_dir = img_dir  # Store image directory path\n",
    "        self.transform = transform\n",
    "\n",
    "        # List all image files in the directory\n",
    "        self.img_labels = []\n",
    "        print(f\"Looking in directory: {img_dir}\")\n",
    "\n",
    "        # Check if directory exists\n",
    "        if not os.path.exists(img_dir):\n",
    "            raise FileNotFoundError(f\"Directory {img_dir} not found\")\n",
    "\n",
    "        for file_name in os.listdir(img_dir):\n",
    "            # Debugging: print file names to see what's being processed\n",
    "            print(f\"Found file: {file_name}\")\n",
    "            \n",
    "            # Check if it's a .png file\n",
    "            if file_name.endswith('.png'):  \n",
    "                label = None\n",
    "                if 'healthy' in file_name.lower():\n",
    "                    label = 0  # Healthy\n",
    "                elif 'healthy2' in file_name.lower():\n",
    "                    label = 0  # Healthy (modified)\n",
    "                elif 'leftpar' in file_name.lower():\n",
    "                    label = 1  # Left vocal cord paralysis\n",
    "                elif 'rightpar' in file_name.lower():\n",
    "                    label = 1  # Right vocal cord paralysis\n",
    "\n",
    "                if label is not None:\n",
    "                    self.img_labels.append((file_name, label))\n",
    "                else:\n",
    "                    print(f\"Skipping unknown file: {file_name}\")\n",
    "                \n",
    "        # Debugging: print number of labels found\n",
    "        print(f\"Found {len(self.img_labels)} .png files in the directory\")\n",
    "\n",
    "    def __len__(self):\n",
    "        return len(self.img_labels)\n",
    "\n",
    "    def __getitem__(self, idx):\n",
    "        img_path = os.path.join(self.img_dir, self.img_labels[idx][0])\n",
    "        image = Image.open(img_path)  # Load the .png file using PIL\n",
    "        \n",
    "        if self.transform:\n",
    "            image = self.transform(image)\n",
    "        \n",
    "        label = self.img_labels[idx][1]  # Extract label (0 for healthy, 1 for paralysis)\n",
    "        file_name = self.img_labels[idx][0]  # Extract file name\n",
    "        \n",
    "        return image, label, file_name"
   ]
  },
  {
   "cell_type": "code",
   "execution_count": 4,
   "id": "a9629268",
   "metadata": {},
   "outputs": [],
   "source": [
    "# Define transformations\n",
    "transform = transforms.Compose([\n",
    "    transforms.Resize((299, 299)),\n",
    "    transforms.Grayscale(num_output_channels=3),\n",
    "    transforms.ToTensor(),\n",
    "    transforms.Normalize(mean=[0.485, 0.456, 0.406], std=[0.229, 0.224, 0.225])\n",
    "])\n"
   ]
  },
  {
   "cell_type": "code",
   "execution_count": null,
   "id": "ab7e347e",
   "metadata": {},
   "outputs": [],
   "source": [
    "# Test the CustomDataset class\n",
    "img_dir = '/data/ai_club/team_13_2024-25/VIPR/Data/ROI_cropped_images'\n",
    "\n",
    "# Create dataset\n",
    "data_set = CustomDataset(img_dir=img_dir, transform=transform)"
   ]
  },
  {
   "cell_type": "markdown",
   "id": "705c891c",
   "metadata": {},
   "source": [
    "Split the data and create dataloaders."
   ]
  },
  {
   "cell_type": "code",
   "execution_count": null,
   "id": "91fad6cf",
   "metadata": {},
   "outputs": [],
   "source": [
    "from torch.utils.data import DataLoader, random_split\n",
    "# Split the dataset into train and validation sets (80%-20% split)\n",
    "train_size = int(0.8 * len(data_set))\n",
    "val_size = len(data_set) - train_size\n",
    "train_dataset, val_dataset = random_split(data_set, [train_size, val_size])\n",
    "\n",
    "# Create DataLoader for train and validation sets\n",
    "batch_size = 32  # You can adjust this batch size according to your needs\n",
    "train_loader = DataLoader(train_dataset, batch_size=batch_size, shuffle=True)\n",
    "val_loader = DataLoader(val_dataset, batch_size=batch_size, shuffle=False)"
   ]
  },
  {
   "cell_type": "markdown",
   "id": "d6010cad",
   "metadata": {},
   "source": [
    "Setting up the model."
   ]
  },
  {
   "cell_type": "code",
   "execution_count": 7,
   "id": "ac525a47",
   "metadata": {},
   "outputs": [],
   "source": [
    "# Model, loss, and optimizer setup\n",
    "device = torch.device(\"cuda\" if torch.cuda.is_available() else \"cpu\")\n",
    "model = models.inception_v3(weights=models.Inception_V3_Weights.IMAGENET1K_V1, aux_logits=True)\n",
    "model.aux_logits = False\n",
    "model.fc = nn.Linear(model.fc.in_features, 1)  # Adjust for binary classification\n",
    "model = model.to(device)\n",
    "criterion = nn.BCEWithLogitsLoss()\n",
    "optimizer = torch.optim.Adam(model.parameters(), lr=0.001)"
   ]
  },
  {
   "cell_type": "code",
   "execution_count": 8,
   "id": "aecc25a2",
   "metadata": {},
   "outputs": [],
   "source": [
    "val_accuracies = []\n",
    "train_accuracies = []"
   ]
  },
  {
   "cell_type": "code",
   "execution_count": 9,
   "id": "1f26f877",
   "metadata": {},
   "outputs": [
    {
     "name": "stdout",
     "output_type": "stream",
     "text": [
      "Epoch 1/5\n"
     ]
    },
    {
     "name": "stderr",
     "output_type": "stream",
     "text": [
      "Epoch 1 - TRAIN: 100%|██████████| 103/103 [00:56<00:00,  1.82batch/s]\n"
     ]
    },
    {
     "name": "stdout",
     "output_type": "stream",
     "text": [
      "TRAINING | Loss: 0.3235, Accuracy: 85.04%\n"
     ]
    },
    {
     "name": "stderr",
     "output_type": "stream",
     "text": [
      "VAL: 100%|██████████| 26/26 [00:06<00:00,  3.92batch/s]\n"
     ]
    },
    {
     "name": "stdout",
     "output_type": "stream",
     "text": [
      "VALIDATION | Loss: 0.4966, Accuracy: 83.66%\n",
      "Epoch 2/5\n"
     ]
    },
    {
     "name": "stderr",
     "output_type": "stream",
     "text": [
      "Epoch 2 - TRAIN: 100%|██████████| 103/103 [00:56<00:00,  1.83batch/s]\n"
     ]
    },
    {
     "name": "stdout",
     "output_type": "stream",
     "text": [
      "TRAINING | Loss: 0.1024, Accuracy: 96.21%\n"
     ]
    },
    {
     "name": "stderr",
     "output_type": "stream",
     "text": [
      "VAL: 100%|██████████| 26/26 [00:06<00:00,  3.89batch/s]\n"
     ]
    },
    {
     "name": "stdout",
     "output_type": "stream",
     "text": [
      "VALIDATION | Loss: 0.2202, Accuracy: 95.24%\n",
      "Epoch 3/5\n"
     ]
    },
    {
     "name": "stderr",
     "output_type": "stream",
     "text": [
      "Epoch 3 - TRAIN: 100%|██████████| 103/103 [00:56<00:00,  1.83batch/s]\n"
     ]
    },
    {
     "name": "stdout",
     "output_type": "stream",
     "text": [
      "TRAINING | Loss: 0.0830, Accuracy: 96.86%\n"
     ]
    },
    {
     "name": "stderr",
     "output_type": "stream",
     "text": [
      "VAL: 100%|██████████| 26/26 [00:06<00:00,  3.89batch/s]\n"
     ]
    },
    {
     "name": "stdout",
     "output_type": "stream",
     "text": [
      "VALIDATION | Loss: 0.1870, Accuracy: 91.59%\n",
      "Epoch 4/5\n"
     ]
    },
    {
     "name": "stderr",
     "output_type": "stream",
     "text": [
      "Epoch 4 - TRAIN: 100%|██████████| 103/103 [00:56<00:00,  1.82batch/s]\n"
     ]
    },
    {
     "name": "stdout",
     "output_type": "stream",
     "text": [
      "TRAINING | Loss: 0.0935, Accuracy: 96.55%\n"
     ]
    },
    {
     "name": "stderr",
     "output_type": "stream",
     "text": [
      "VAL: 100%|██████████| 26/26 [00:06<00:00,  3.89batch/s]\n"
     ]
    },
    {
     "name": "stdout",
     "output_type": "stream",
     "text": [
      "VALIDATION | Loss: 0.2266, Accuracy: 91.34%\n",
      "Epoch 5/5\n"
     ]
    },
    {
     "name": "stderr",
     "output_type": "stream",
     "text": [
      "Epoch 5 - TRAIN: 100%|██████████| 103/103 [00:56<00:00,  1.82batch/s]\n"
     ]
    },
    {
     "name": "stdout",
     "output_type": "stream",
     "text": [
      "TRAINING | Loss: 0.0530, Accuracy: 97.99%\n"
     ]
    },
    {
     "name": "stderr",
     "output_type": "stream",
     "text": [
      "VAL: 100%|██████████| 26/26 [00:06<00:00,  3.90batch/s]\n"
     ]
    },
    {
     "name": "stdout",
     "output_type": "stream",
     "text": [
      "VALIDATION | Loss: 0.0226, Accuracy: 99.39%\n"
     ]
    }
   ],
   "source": [
    "import torch\n",
    "import torch.nn as nn\n",
    "from tqdm import tqdm\n",
    "\n",
    "num_epochs = 5\n",
    "model.train()\n",
    "\n",
    "# Lists to store metrics for each epoch\n",
    "epoch_data_train = []\n",
    "epoch_data_val = []\n",
    "\n",
    "for epoch in range(num_epochs):\n",
    "    print(f\"Epoch {epoch+1}/{num_epochs}\")\n",
    "    \n",
    "    # TRAINING PHASE\n",
    "    total_loss_train = 0\n",
    "    total_correct_train = 0\n",
    "    total_examples_train = 0\n",
    "    batch_count = 0\n",
    "    \n",
    "    progress_bar = tqdm(enumerate(train_loader), total=len(train_loader), desc=f\"Epoch {epoch+1} - TRAIN\", unit=\"batch\")\n",
    "    for batch_idx, (inputs, labels, _) in progress_bar:\n",
    "        inputs, labels = inputs.to(device), labels.to(device)\n",
    "        optimizer.zero_grad()\n",
    "\n",
    "        outputs = model(inputs)\n",
    "        outputs = outputs.logits if hasattr(outputs, 'logits') else outputs  # For InceptionV3\n",
    "\n",
    "        loss_train = criterion(outputs.squeeze(), labels.float().squeeze())\n",
    "        loss_train.backward()\n",
    "        optimizer.step()\n",
    "\n",
    "        total_loss_train += loss_train.item()\n",
    "        predictions = torch.round(torch.sigmoid(outputs))\n",
    "        \n",
    "        # Count correct predictions and total examples\n",
    "        total_correct_train += (predictions.squeeze() == labels.squeeze()).sum().item()\n",
    "        total_examples_train += labels.numel()\n",
    "        batch_count += 1\n",
    "\n",
    "    average_loss_train = total_loss_train / batch_count\n",
    "    average_accuracy_train = total_correct_train / total_examples_train\n",
    "    print(f\"TRAINING | Loss: {average_loss_train:.4f}, Accuracy: {average_accuracy_train:.2%}\")\n",
    "    epoch_data_train.append([epoch+1, average_loss_train, average_accuracy_train])\n",
    "    train_accuracies.append(average_accuracy_train)\n",
    "    \n",
    "    # VALIDATION PHASE\n",
    "    model.eval()\n",
    "    total_loss_val = 0\n",
    "    total_correct_val = 0\n",
    "    total_examples_val = 0\n",
    "    batch_count = 0\n",
    "    \n",
    "    progress_bar_val = tqdm(enumerate(val_loader), total=len(val_loader), desc=\"VAL\", unit=\"batch\")\n",
    "    for batch_idx, (inputs, labels, _) in progress_bar_val:\n",
    "        inputs, labels = inputs.to(device), labels.to(device)\n",
    "\n",
    "        outputs = model(inputs)\n",
    "        outputs = outputs.logits if hasattr(outputs, 'logits') else outputs\n",
    "\n",
    "        loss_val = criterion(outputs.squeeze(), labels.float().squeeze())\n",
    "        total_loss_val += loss_val.item()\n",
    "        \n",
    "        predictions_val = torch.round(torch.sigmoid(outputs))\n",
    "        total_correct_val += (predictions_val.squeeze() == labels.squeeze()).sum().item()\n",
    "        total_examples_val += labels.numel()\n",
    "        batch_count += 1\n",
    "        \n",
    "    average_loss_val = total_loss_val / batch_count\n",
    "    average_accuracy_val = total_correct_val / total_examples_val\n",
    "    print(f\"VALIDATION | Loss: {average_loss_val:.4f}, Accuracy: {average_accuracy_val:.2%}\")\n",
    "    epoch_data_val.append([epoch+1, average_loss_val, average_accuracy_val])\n",
    "    val_accuracies.append(average_accuracy_val)\n",
    "    \n",
    "    # Optionally save model checkpoint here\n",
    "    torch.save(model.state_dict(), f'models/InceptionV3-{epoch+1}-{average_loss_train:.4f}.pth')\n",
    "    \n",
    "    # Switch back to train mode for next epoch\n",
    "    model.train()\n"
   ]
  },
  {
   "cell_type": "code",
   "execution_count": 10,
   "id": "a5307046",
   "metadata": {},
   "outputs": [
    {
     "name": "stdout",
     "output_type": "stream",
     "text": [
      "[0.8504273504273504, 0.9621489621489622, 0.9685592185592186, 0.9655067155067155, 0.9798534798534798]\n",
      "[0.8365853658536585, 0.9524390243902439, 0.9158536585365854, 0.9134146341463415, 0.9939024390243902]\n",
      "5\n"
     ]
    }
   ],
   "source": [
    "print(train_accuracies)\n",
    "print(val_accuracies)\n",
    "print(num_epochs)\n",
    "num_epochs_list = []\n",
    "for i in range(num_epochs):\n",
    "    num_epochs_list.append(i + 1)"
   ]
  },
  {
   "cell_type": "code",
   "execution_count": 11,
   "id": "6b31a7e8",
   "metadata": {},
   "outputs": [
    {
     "data": {
      "image/png": "[encoded data removed]",
      "text/plain": [
       "<Figure size 640x480 with 1 Axes>"
      ]
     },
     "metadata": {},
     "output_type": "display_data"
    }
   ],
   "source": [
    "\n",
    "plt.plot(num_epochs_list, train_accuracies, label = 'train accuracies')\n",
    "plt.plot(num_epochs_list, val_accuracies, label = 'validation accuracies')\n",
    "plt.legend()\n",
    "plt.show()"
   ]
  },
  {
   "cell_type": "markdown",
   "id": "6bba6e4e",
   "metadata": {},
   "source": [
    "## Test that it works with a paralyzed image. Should return 1"
   ]
  },
  {
   "cell_type": "code",
   "execution_count": 12,
   "id": "a54d87cd",
   "metadata": {},
   "outputs": [],
   "source": [
    "# from PIL import Image\n",
    "# import torch\n",
    "# from torchvision import transforms\n",
    "\n",
    "# # Load the model and weights\n",
    "# model.load_state_dict(torch.load('models/InceptionV3-5-0.0614.pth'))\n",
    "# model.eval()  # Switch to evaluation mode\n",
    "\n",
    "# # Define the necessary transformations\n",
    "# transform = transforms.Compose([\n",
    "#     transforms.Resize((299, 299)),  # Resize to the required input size for InceptionV3\n",
    "#     transforms.Grayscale(num_output_channels=3),  # Convert to 3 channels (RGB)\n",
    "#     transforms.ToTensor(),  # Convert image to tensor\n",
    "#     transforms.Normalize(mean=[0.485, 0.456, 0.406], std=[0.229, 0.224, 0.225])  # Normalize as InceptionV3 expects\n",
    "# ])\n",
    "\n",
    "# # Load the image\n",
    "# image_path = \"/data/ai_club/team_13_2024-25/VIPR/Data/ROI_cropped_images/rightpar_8173.wmv_frame1100.png\"  # Replace with your image path\n",
    "# image = Image.open(image_path)\n",
    "\n",
    "# # Apply the transformations\n",
    "# image = transform(image).unsqueeze(0)  # Add a batch dimension (since the model expects a batch of images)\n",
    "\n",
    "# # Move the image to the same device as the model (GPU or CPU)\n",
    "# image = image.to(device)\n",
    "\n",
    "# # Make predictions\n",
    "# with torch.no_grad():  # Disable gradient calculation for inference\n",
    "#     outputs = model(image)\n",
    "#     outputs = outputs.logits if hasattr(outputs, 'logits') else outputs  # InceptionV3 output adjustment\n",
    "    \n",
    "#     # Apply sigmoid to get probabilities, then round to get binary output (0 or 1)\n",
    "#     prediction = torch.round(torch.sigmoid(outputs))\n",
    "\n",
    "# # Print the predicted label\n",
    "# print(f\"Predicted label: {prediction.item()}\")  # 0 or 1 based on your binary classification\n"
   ]
  }
 ],
 "metadata": {
  "kernelspec": {
   "display_name": "Python 3 (ipykernel)",
   "language": "python",
   "name": "python3"
  },
  "language_info": {
   "codemirror_mode": {
    "name": "ipython",
    "version": 3
   },
   "file_extension": ".py",
   "mimetype": "text/x-python",
   "name": "python",
   "nbconvert_exporter": "python",
   "pygments_lexer": "ipython3",
   "version": "3.10.12"
  }
 },
 "nbformat": 4,
 "nbformat_minor": 5
}
