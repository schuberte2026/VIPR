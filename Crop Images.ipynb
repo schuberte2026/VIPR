{
 "cells": [
  {
   "cell_type": "markdown",
   "id": "eb47bc57",
   "metadata": {},
   "source": [
    "## Purpose\n",
    "The purpose of this notebook to load in all the images and their associated labels, then make a new image which is cropped based on the labels (essentially giving us our region of interest). Those images will be used to train the K-Means clustering, and also will be used for generating synthetic \"unhealthy\" images."
   ]
  },
  {
   "cell_type": "markdown",
   "id": "b62f353a",
   "metadata": {},
   "source": [
    "The following cell imports the needed libraries"
   ]
  },
  {
   "cell_type": "code",
   "execution_count": 1,
   "id": "acb67377",
   "metadata": {},
   "outputs": [],
   "source": [
    "import numpy as np\n",
    "import pandas as pd\n",
    "import os\n",
    "import matplotlib.pyplot as plt\n",
    "import matplotlib.image as mpimg\n",
    "from PIL import Image"
   ]
  },
  {
   "cell_type": "markdown",
   "id": "e32a8b01",
   "metadata": {},
   "source": [
    "The following cell creates the directory where all the png images will be saved."
   ]
  },
  {
   "cell_type": "code",
   "execution_count": 2,
   "id": "e1e772b9",
   "metadata": {},
   "outputs": [],
   "source": [
    "try:\n",
    "    if not os.path.exists('cropped_png_images'):\n",
    "        os.makedirs('cropped_png_images')\n",
    "except OSError:\n",
    "    print('Error creating data directory.')"
   ]
  },
  {
   "cell_type": "markdown",
   "id": "5f7d0818",
   "metadata": {},
   "source": [
    "The following cell takes an image and its associated label and crops it to the ROI, then resizes it."
   ]
  },
  {
   "cell_type": "code",
   "execution_count": 3,
   "id": "78805bc5",
   "metadata": {},
   "outputs": [],
   "source": [
    "import os\n",
    "from PIL import Image\n",
    "\n",
    "def crop_and_resize(image_path, label_path):\n",
    "    \"\"\"Crops a 256x256 image to the region of interest (ROI) specified by the label file and resizes it back to 256x256.\"\"\"\n",
    "    # Verify that the image and label file have matching base names.\n",
    "    image_base = os.path.splitext(os.path.basename(image_path))[0]\n",
    "    label_base = os.path.splitext(os.path.basename(label_path))[0]\n",
    "    if image_base != label_base:\n",
    "        raise ValueError(\"Image file and label file names do not match.\")\n",
    "\n",
    "    # Open the image.\n",
    "    image = Image.open(image_path)\n",
    "    if image.size != (256, 256):\n",
    "        raise ValueError(\"The input image is not 256x256 in size.\")\n",
    "\n",
    "    # Read and parse the label file.\n",
    "    with open(label_path, 'r') as f:\n",
    "        line = f.readline().strip()\n",
    "        parts = line.split()\n",
    "        if len(parts) != 5:\n",
    "            raise ValueError(\"Label file does not contain exactly 5 values.\")\n",
    "        # Parse values: ignoring the first value which represents the class label.\n",
    "        try:\n",
    "            _, x_center, y_center, box_width, box_height = parts\n",
    "            x_center = float(x_center)\n",
    "            y_center = float(y_center)\n",
    "            box_width = float(box_width)\n",
    "            box_height = float(box_height)\n",
    "        except ValueError:\n",
    "            raise ValueError(\"One or more of the coordinate values are not valid floats.\")\n",
    "\n",
    "    # Calculate pixel coordinates for cropping.\n",
    "    img_width, img_height = image.size\n",
    "    left   = int((x_center - box_width / 2) * img_width)\n",
    "    top    = int((y_center - box_height / 2) * img_height)\n",
    "    right  = int((x_center + box_width / 2) * img_width)\n",
    "    bottom = int((y_center + box_height / 2) * img_height)\n",
    "    \n",
    "    # Ensure coordinates are within image boundaries.\n",
    "    left = max(0, left)\n",
    "    top = max(0, top)\n",
    "    right = min(img_width, right)\n",
    "    bottom = min(img_height, bottom)\n",
    "\n",
    "    # Crop the image to the region of interest.\n",
    "    cropped_image = image.crop((left, top, right, bottom))\n",
    "\n",
    "    # Resize cropped image back to 256x256 using a high-quality filter.\n",
    "    resized_image = cropped_image.resize((256, 256), Image.Resampling.LANCZOS)\n",
    "\n",
    "    return resized_image"
   ]
  },
  {
   "cell_type": "markdown",
   "id": "b84d9277",
   "metadata": {},
   "source": [
    "The following cell iterates through the images and their labels to create cropped ROIs."
   ]
  },
  {
   "cell_type": "code",
   "execution_count": 4,
   "id": "00a2e3f8",
   "metadata": {},
   "outputs": [],
   "source": [
    "def crop_all_images(image_input_dir, label_input_dir, output_dir): \n",
    "    \"\"\"Crops all images to the region of interest (ROI) based on labels, resizes them, and saves them as PNG in output_dir.\"\"\"\n",
    "    if not os.path.exists(output_dir):\n",
    "        os.makedirs(output_dir)\n",
    "\n",
    "    for filename in os.listdir(image_input_dir):\n",
    "        img_path = os.path.join(image_input_dir, filename)\n",
    "\n",
    "        # Check if the image is a PNG file\n",
    "        if filename.lower().endswith(\".png\"):\n",
    "            label_filename = os.path.splitext(filename)[0] + \".txt\"\n",
    "            label_path = os.path.join(label_input_dir, label_filename)\n",
    "\n",
    "            # Check if the associated label file exists\n",
    "            if os.path.exists(label_path):\n",
    "                try:\n",
    "                    # Crop and resize the image\n",
    "                    result_image = crop_and_resize(img_path, label_path)\n",
    "                    \n",
    "                    # Save the processed image in the output directory\n",
    "                    result_image.save(os.path.join(output_dir, filename), format=\"PNG\")\n",
    "                except Exception as e:\n",
    "                    print(f\"Error processing {filename}: {e}\")\n",
    "            else:\n",
    "                print(f\"Skipping {filename}: Label file {label_filename} not found.\")\n"
   ]
  },
  {
   "cell_type": "markdown",
   "id": "ff32e3c0",
   "metadata": {},
   "source": [
    "Function call cell."
   ]
  },
  {
   "cell_type": "code",
   "execution_count": 6,
   "id": "62dc6188",
   "metadata": {},
   "outputs": [],
   "source": [
    "crop_all_images(\"/data/ai_club/team_13_2024-25/VIPR/Data/YOLO_images_total/\", \"/data/ai_club/team_13_2024-25/VIPR/Data/YOLO_labels_total/\", \"/data/ai_club/team_13_2024-25/VIPR/Data/ROI_cropped_images\")"
   ]
  },
  {
   "cell_type": "markdown",
   "id": "e66ce1a0",
   "metadata": {},
   "source": [
    "The following cell takes a cropped image, and makes synthetic \"unhealthy\" images of vocal cords, by making images where one side is stretched vertically by 20%."
   ]
  },
  {
   "cell_type": "code",
   "execution_count": 7,
   "id": "44163104",
   "metadata": {},
   "outputs": [],
   "source": [
    "import os\n",
    "from PIL import Image\n",
    "\n",
    "def split_and_stretch_images(input_dir, output_dir):\n",
    "    \"\"\"\n",
    "    Processes all cropped/resized PNG images in input_dir by creating two variants:\n",
    "    \n",
    "    1. Left-Stretched Variant:\n",
    "       - Splits the image vertically.\n",
    "       - Stretches the left half vertically by 20% (i.e. new height = original height * 1.2).\n",
    "       - Pastes the stretched left half with the original right half (vertically centered).\n",
    "       \n",
    "    2. Right-Stretched Variant:\n",
    "       - Splits the image vertically.\n",
    "       - Stretches the right half vertically by 20%.\n",
    "       - Pastes the stretched right half with the original left half (vertically centered).\n",
    "    \n",
    "    In each case, the composite image is then resized back to the original dimensions (assumed 256x256)\n",
    "    to ensure a consistent size for machine learning processing.\n",
    "    \n",
    "    The resulting images are saved as PNGs in output_dir with intuitive filenames.\n",
    "    \"\"\"\n",
    "    if not os.path.exists(output_dir):\n",
    "        os.makedirs(output_dir)\n",
    "    \n",
    "    for filename in os.listdir(input_dir):\n",
    "        if filename.lower().endswith(\".png\"):\n",
    "            img_path = os.path.join(input_dir, filename)\n",
    "            try:\n",
    "                img = Image.open(img_path)\n",
    "                original_width, original_height = img.size  # Expected to be 256x256\n",
    "                mid = original_width // 2  # Split point\n",
    "                \n",
    "                # Split the image into left and right halves.\n",
    "                left_half = img.crop((0, 0, mid, original_height))\n",
    "                right_half = img.crop((mid, 0, original_width, original_height))\n",
    "                \n",
    "                # ----- Left-Stretched Variant -----\n",
    "                # Stretch left half vertically by 20%\n",
    "                new_left_height = int(original_height * 1.2)\n",
    "                left_stretched = left_half.resize((left_half.width, new_left_height), Image.Resampling.LANCZOS)\n",
    "                # Determine composite height: use the taller height between stretched and original half.\n",
    "                composite_height = max(new_left_height, original_height)\n",
    "                # Create a new blank image for the composite.\n",
    "                composite_left = Image.new(img.mode, (original_width, composite_height))\n",
    "                # Paste the stretched left half at the top-left corner.\n",
    "                composite_left.paste(left_stretched, (0, 0))\n",
    "                # Vertically center the right half.\n",
    "                right_top = (composite_height - original_height) // 2\n",
    "                composite_left.paste(right_half, (mid, right_top))\n",
    "                # Resize composite back to original size (e.g., 256x256).\n",
    "                composite_left_resized = composite_left.resize((original_width, original_height), Image.Resampling.LANCZOS)\n",
    "                # Save with an intuitive filename.\n",
    "                left_output_name = os.path.splitext(filename)[0] + \"_left_stretched.png\"\n",
    "                composite_left_resized.save(os.path.join(output_dir, left_output_name), format=\"PNG\")\n",
    "                \n",
    "                # ----- Right-Stretched Variant -----\n",
    "                # Stretch right half vertically by 20%\n",
    "                new_right_height = int(original_height * 1.2)\n",
    "                right_stretched = right_half.resize((right_half.width, new_right_height), Image.Resampling.LANCZOS)\n",
    "                composite_height = max(new_right_height, original_height)\n",
    "                composite_right = Image.new(img.mode, (original_width, composite_height))\n",
    "                # Vertically center the left half.\n",
    "                left_top = (composite_height - original_height) // 2\n",
    "                composite_right.paste(left_half, (0, left_top))\n",
    "                # Paste the stretched right half at the top-right (starting at the midpoint).\n",
    "                composite_right.paste(right_stretched, (mid, 0))\n",
    "                composite_right_resized = composite_right.resize((original_width, original_height), Image.Resampling.LANCZOS)\n",
    "                right_output_name = os.path.splitext(filename)[0] + \"_right_stretched.png\"\n",
    "                composite_right_resized.save(os.path.join(output_dir, right_output_name), format=\"PNG\")\n",
    "                \n",
    "            except Exception as e:\n",
    "                print(f\"Skipping {filename}: {e}\")\n",
    "\n",
    "# Example usage:\n",
    "# split_and_stretch_images(\"cropped_png_images\", \"stretched_png_images\")\n"
   ]
  },
  {
   "cell_type": "code",
   "execution_count": 8,
   "id": "91cb3d32",
   "metadata": {},
   "outputs": [],
   "source": [
    "split_and_stretch_images(\"/data/ai_club/team_13_2024-25/VIPR/Data/ROI_cropped_images\", \"/data/ai_club/team_13_2024-25/VIPR/Data/synthetic_paralyzed_data\")"
   ]
  }
 ],
 "metadata": {
  "kernelspec": {
   "display_name": "Python 3 (ipykernel)",
   "language": "python",
   "name": "python3"
  },
  "language_info": {
   "codemirror_mode": {
    "name": "ipython",
    "version": 3
   },
   "file_extension": ".py",
   "mimetype": "text/x-python",
   "name": "python",
   "nbconvert_exporter": "python",
   "pygments_lexer": "ipython3",
   "version": "3.10.12"
  }
 },
 "nbformat": 4,
 "nbformat_minor": 5
}
