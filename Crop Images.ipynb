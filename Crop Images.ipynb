{
 "cells": [
  {
   "cell_type": "markdown",
   "id": "20826976",
   "metadata": {},
   "source": [
    "## Purpose\n",
    "The purpose of this notebook to load in all the images and their associated labels, then make a new image which is cropped based on the labels (essentially giving us our region of interest). Those images will be used to train the K-Means clustering, and also will be used for generating synthetic \"unhealthy\" images."
   ]
  },
  {
   "cell_type": "markdown",
   "id": "bd327607",
   "metadata": {},
   "source": [
    "The following cell imports the needed libraries"
   ]
  },
  {
   "cell_type": "code",
   "execution_count": 1,
   "id": "904cf777",
   "metadata": {},
   "outputs": [],
   "source": [
    "import numpy as np\n",
    "import pandas as pd\n",
    "import os\n",
    "import matplotlib.pyplot as plt\n",
    "import matplotlib.image as mpimg\n",
    "from PIL import Image"
   ]
  },
  {
   "cell_type": "markdown",
   "id": "52800a65",
   "metadata": {},
   "source": [
    "The following cell creates the directory where all the png images will be saved."
   ]
  },
  {
   "cell_type": "code",
   "execution_count": 2,
   "id": "d16e0520",
   "metadata": {},
   "outputs": [],
   "source": [
    "try:\n",
    "    if not os.path.exists('cropped_png_images'):\n",
    "        os.makedirs('cropped_png_images')\n",
    "except OSError:\n",
    "    print('Error creating data directory.')"
   ]
  },
  {
   "cell_type": "code",
   "execution_count": 3,
   "id": "bbda336a",
   "metadata": {},
   "outputs": [],
   "source": [
    "import os\n",
    "from PIL import Image\n",
    "\n",
    "def crop_and_resize(image_path, label_path):\n",
    "    \"\"\"Crops a 256x256 image to the region of interest (ROI) specified by the label file and resizes it back to 256x256.\"\"\"\n",
    "    # Verify that the image and label file have matching base names.\n",
    "    image_base = os.path.splitext(os.path.basename(image_path))[0]\n",
    "    label_base = os.path.splitext(os.path.basename(label_path))[0]\n",
    "    if image_base != label_base:\n",
    "        raise ValueError(\"Image file and label file names do not match.\")\n",
    "\n",
    "    # Open the image.\n",
    "    image = Image.open(image_path)\n",
    "    if image.size != (256, 256):\n",
    "        raise ValueError(\"The input image is not 256x256 in size.\")\n",
    "\n",
    "    # Read and parse the label file.\n",
    "    with open(label_path, 'r') as f:\n",
    "        line = f.readline().strip()\n",
    "        parts = line.split()\n",
    "        if len(parts) != 5:\n",
    "            raise ValueError(\"Label file does not contain exactly 5 values.\")\n",
    "        # Parse values: ignoring the first value which represents the class label.\n",
    "        try:\n",
    "            _, x_center, y_center, box_width, box_height = parts\n",
    "            x_center = float(x_center)\n",
    "            y_center = float(y_center)\n",
    "            box_width = float(box_width)\n",
    "            box_height = float(box_height)\n",
    "        except ValueError:\n",
    "            raise ValueError(\"One or more of the coordinate values are not valid floats.\")\n",
    "\n",
    "    # Calculate pixel coordinates for cropping.\n",
    "    img_width, img_height = image.size\n",
    "    left   = int((x_center - box_width / 2) * img_width)\n",
    "    top    = int((y_center - box_height / 2) * img_height)\n",
    "    right  = int((x_center + box_width / 2) * img_width)\n",
    "    bottom = int((y_center + box_height / 2) * img_height)\n",
    "    \n",
    "    # Ensure coordinates are within image boundaries.\n",
    "    left = max(0, left)\n",
    "    top = max(0, top)\n",
    "    right = min(img_width, right)\n",
    "    bottom = min(img_height, bottom)\n",
    "\n",
    "    # Crop the image to the region of interest.\n",
    "    cropped_image = image.crop((left, top, right, bottom))\n",
    "\n",
    "    # Resize cropped image back to 256x256 using a high-quality filter.\n",
    "    resized_image = cropped_image.resize((256, 256), Image.Resampling.LANCZOS)\n",
    "\n",
    "    return resized_image"
   ]
  },
  {
   "cell_type": "code",
   "execution_count": 4,
   "id": "24f59533",
   "metadata": {},
   "outputs": [],
   "source": [
    "def crop_all_images(image_input_dir, label_input_dir, output_dir): \n",
    "    \"\"\"Crops all images to the region of interest (ROI) based on labels, resizes them, and saves them as PNG in output_dir.\"\"\"\n",
    "    if not os.path.exists(output_dir):\n",
    "        os.makedirs(output_dir)\n",
    "\n",
    "    for filename in os.listdir(image_input_dir):\n",
    "        img_path = os.path.join(image_input_dir, filename)\n",
    "\n",
    "        # Check if the image is a PNG file\n",
    "        if filename.lower().endswith(\".png\"):\n",
    "            label_filename = os.path.splitext(filename)[0] + \".txt\"\n",
    "            label_path = os.path.join(label_input_dir, label_filename)\n",
    "\n",
    "            # Check if the associated label file exists\n",
    "            if os.path.exists(label_path):\n",
    "                try:\n",
    "                    # Crop and resize the image\n",
    "                    result_image = crop_and_resize(img_path, label_path)\n",
    "                    \n",
    "                    # Save the processed image in the output directory\n",
    "                    result_image.save(os.path.join(output_dir, filename), format=\"PNG\")\n",
    "                except Exception as e:\n",
    "                    print(f\"Error processing {filename}: {e}\")\n",
    "            else:\n",
    "                print(f\"Skipping {filename}: Label file {label_filename} not found.\")\n"
   ]
  },
  {
   "cell_type": "code",
   "execution_count": 6,
   "id": "8922c401",
   "metadata": {},
   "outputs": [],
   "source": [
    "crop_all_images(\"/data/ai_club/team_13_2024-25/VIPR/Data/YOLO_images_total/\", \"/data/ai_club/team_13_2024-25/VIPR/Data/YOLO_labels_total/\", \"/data/ai_club/team_13_2024-25/VIPR/Data/ROI_cropped_images\")"
   ]
  }
 ],
 "metadata": {
  "kernelspec": {
   "display_name": "Python 3 (ipykernel)",
   "language": "python",
   "name": "python3"
  },
  "language_info": {
   "codemirror_mode": {
    "name": "ipython",
    "version": 3
   },
   "file_extension": ".py",
   "mimetype": "text/x-python",
   "name": "python",
   "nbconvert_exporter": "python",
   "pygments_lexer": "ipython3",
   "version": "3.10.12"
  }
 },
 "nbformat": 4,
 "nbformat_minor": 5
}
