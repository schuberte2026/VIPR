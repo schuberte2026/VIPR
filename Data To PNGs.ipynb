{
 "cells": [
  {
   "cell_type": "markdown",
   "id": "7a7c1dea",
   "metadata": {},
   "source": [
    "## Purpose\n",
    "The purpose of this notebook to load in all the raw videos and images we have in our dataset. Then convert all images to the .png format. Additionally, the videos will be split into frames that will be saved as .png images. Finally, all images that are resized and converted to pngs will be passed into easyOCR reader that will remove most of the text contained in the images."
   ]
  },
  {
   "cell_type": "markdown",
   "id": "16b4dab9",
   "metadata": {},
   "source": [
    "The following cell imports the needed libraries"
   ]
  },
  {
   "cell_type": "code",
   "execution_count": 19,
   "id": "b289da55",
   "metadata": {},
   "outputs": [],
   "source": [
    "import numpy as np\n",
    "import pandas as pd\n",
    "import os\n",
    "import matplotlib.pyplot as plt\n",
    "import matplotlib.image as mpimg\n",
    "import cv2\n",
    "import imagesize\n",
    "import csv\n",
    "from PIL import Image\n",
    "import easyocr\n",
    "import shutil"
   ]
  },
  {
   "cell_type": "markdown",
   "id": "2f011ba0",
   "metadata": {},
   "source": [
    "The following cell creates the directory where all the png images will be saved."
   ]
  },
  {
   "cell_type": "code",
   "execution_count": 2,
   "id": "a86531b4",
   "metadata": {},
   "outputs": [],
   "source": [
    "try:\n",
    "    if not os.path.exists('png_images'):\n",
    "        os.makedirs('png_images')\n",
    "except OSError:\n",
    "    print('Error creating data directory.')"
   ]
  },
  {
   "cell_type": "markdown",
   "id": "9c3b85f0",
   "metadata": {},
   "source": [
    "The following cell creates the directory where the frames (images) from the videos will be saved."
   ]
  },
  {
   "cell_type": "code",
   "execution_count": 3,
   "id": "153c312a",
   "metadata": {},
   "outputs": [],
   "source": [
    "try:\n",
    "    if not os.path.exists('video_images'):\n",
    "        os.makedirs('video_images')\n",
    "except OSError:\n",
    "    print('Error creating data directory.')"
   ]
  },
  {
   "cell_type": "markdown",
   "id": "51f35bca",
   "metadata": {},
   "source": [
    "The following cell creates the directory where all the masked png images will be saved."
   ]
  },
  {
   "cell_type": "code",
   "execution_count": 4,
   "id": "f4258d3f",
   "metadata": {},
   "outputs": [],
   "source": [
    "try:\n",
    "    if not os.path.exists('masked_images'):\n",
    "        os.makedirs('masked_images')\n",
    "except OSError:\n",
    "    print('Error creating data directory.')"
   ]
  },
  {
   "cell_type": "markdown",
   "id": "40f87df4",
   "metadata": {},
   "source": [
    "The following cell contains the function used for converting a video to png images."
   ]
  },
  {
   "cell_type": "code",
   "execution_count": 5,
   "id": "1e7e589c",
   "metadata": {},
   "outputs": [],
   "source": [
    "def video_to_image(input_dir, output_dir):\n",
    "    for filename in os.listdir(input_dir):\n",
    "        file_path = os.path.join(input_dir, filename)  # Correct file path\n",
    "        capture = cv2.VideoCapture(file_path)\n",
    "        \n",
    "        images_created = 0\n",
    "        currentFrame = 0\n",
    "        frameSkip = 20 # saves every 20 frames\n",
    "        \n",
    "        try: \n",
    "            while True:\n",
    "                ret, frame = capture.read()\n",
    "\n",
    "                # Break the loop if no frame is captured\n",
    "                if not ret:\n",
    "                    break\n",
    "\n",
    "                # Only save every 'frameSkip'-th frame\n",
    "                if currentFrame % frameSkip == 0:\n",
    "\n",
    "                    # Saving the frame\n",
    "                    name = f'{output_dir}/{filename.split(\"/\")[-1]}_frame{currentFrame}.png'\n",
    "\n",
    "                    cv2.imwrite(name, frame)\n",
    "                    images_created += 1\n",
    "\n",
    "                currentFrame += 1\n",
    "        except Exception as e:\n",
    "            print(f\"An error occurred: {e}\")\n",
    "\n",
    "        print(f'Images created for {filename}: {images_created}')\n",
    "        capture.release()\n",
    "    print(\"DONE CONVERTING IMAGES TO FRAMES\")"
   ]
  },
  {
   "cell_type": "markdown",
   "id": "f70d9607",
   "metadata": {},
   "source": [
    "The following function iterates through all images in a directory, converts them to a png if they are not already, then resizes them to a certain size for the model."
   ]
  },
  {
   "cell_type": "code",
   "execution_count": 6,
   "id": "49dd7621",
   "metadata": {},
   "outputs": [],
   "source": [
    "def resize_images(input_dir, output_dir, size=(256, 256)): # REPLACE SIZE WITH THE MODELS SPECIFICED SIZE\n",
    "    \"\"\"Resizes all images in input_dir to the specified size and saves them as PNG in output_dir.\"\"\"\n",
    "    if not os.path.exists(output_dir):\n",
    "        os.makedirs(output_dir)\n",
    "\n",
    "    for filename in os.listdir(input_dir):\n",
    "        img_path = os.path.join(input_dir, filename)\n",
    "        try:\n",
    "            with Image.open(img_path) as img:\n",
    "                # Convert to PNG if not already PNG\n",
    "                if not filename.lower().endswith(\".png\"):\n",
    "                    filename = os.path.splitext(filename)[0] + \".png\"\n",
    "                \n",
    "                img_resized = img.resize(size, Image.Resampling.LANCZOS)\n",
    "                \n",
    "                # Save in PNG format\n",
    "                img_resized.save(os.path.join(output_dir, filename), format=\"PNG\")\n",
    "        except Exception as e:\n",
    "            print(f\"Skipping {filename}: {e}\")"
   ]
  },
  {
   "cell_type": "markdown",
   "id": "d9f14d8b",
   "metadata": {},
   "source": [
    "Loops through all the videos in the raw videos directory and creates png images from frames of them. Then it resizes all the images and stores them in the png images directory."
   ]
  },
  {
   "cell_type": "code",
   "execution_count": 7,
   "id": "aee8efc8",
   "metadata": {},
   "outputs": [
    {
     "name": "stdout",
     "output_type": "stream",
     "text": [
      "Images created for media8.mp4: 14\n",
      "Images created for media3.MP4: 3\n",
      "Images created for media2.mp4: 5\n",
      "Images created for media10.mp4: 6\n",
      "Images created for media6.mp4: 5\n",
      "Images created for media4.MP4: 3\n",
      "Images created for media9.mp4: 12\n",
      "DONE CONVERTING IMAGES TO FRAMES\n",
      "Skipping .ipynb_checkpoints: [Errno 21] Is a directory: '/home/schuberte/VIPR/video_images/.ipynb_checkpoints'\n"
     ]
    }
   ],
   "source": [
    "video_to_image(\"/data/ai_club/team_13_2024-25/VIPR/Data/Raw Videos\", \"/home/schuberte/VIPR/video_images\")\n",
    "resize_images(\"/home/schuberte/VIPR/video_images\", \"/home/schuberte/VIPR/png_images\")"
   ]
  },
  {
   "cell_type": "markdown",
   "id": "553f4e5b",
   "metadata": {},
   "source": [
    "Loops through all the images in the raw images directory, resizes and converts them to png images (if they're not already)."
   ]
  },
  {
   "cell_type": "code",
   "execution_count": 8,
   "id": "346e5f17",
   "metadata": {},
   "outputs": [],
   "source": [
    "resize_images(\"/data/ai_club/team_13_2024-25/VIPR/Data/Raw Images\", \"/home/schuberte/VIPR/png_images\")"
   ]
  },
  {
   "cell_type": "markdown",
   "id": "3cf83f42",
   "metadata": {},
   "source": [
    "Loops through all the images in the ambiguous directory, resizes and converts them to png images (if they're not already)."
   ]
  },
  {
   "cell_type": "code",
   "execution_count": 9,
   "id": "c8dd6ea9",
   "metadata": {},
   "outputs": [],
   "source": [
    "resize_images(\"/data/ai_club/team_13_2024-25/VIPR/Data/dr_sebelik_data/Images/Ambiguous\", \"/home/schuberte/VIPR/png_images\")"
   ]
  },
  {
   "cell_type": "markdown",
   "id": "a328fcc4",
   "metadata": {},
   "source": [
    "Loops through all the images in the healthy (images) directory, resizes and converts them to png images (if they're not already)."
   ]
  },
  {
   "cell_type": "code",
   "execution_count": 10,
   "id": "d4a04777",
   "metadata": {},
   "outputs": [
    {
     "name": "stdout",
     "output_type": "stream",
     "text": [
      "Skipping .ipynb_checkpoints: [Errno 21] Is a directory: '/data/ai_club/team_13_2024-25/VIPR/Data/dr_sebelik_data/Images/Healthy/.ipynb_checkpoints'\n"
     ]
    }
   ],
   "source": [
    "resize_images(\"/data/ai_club/team_13_2024-25/VIPR/Data/dr_sebelik_data/Images/Healthy\", \"/home/schuberte/VIPR/png_images\")"
   ]
  },
  {
   "cell_type": "markdown",
   "id": "a4064a27",
   "metadata": {},
   "source": [
    "This will loop through all the images in the paralyzed (images) directory, resizes and converts them to png images (if they're not already)."
   ]
  },
  {
   "cell_type": "code",
   "execution_count": null,
   "id": "ba631877",
   "metadata": {},
   "outputs": [],
   "source": [
    "## This is current empty. Need to have Will go through \"Ambiguous\" directory to determine which ones are paralyzed, if any.\n",
    "# resize_images(\"/data/ai_club/team_13_2024-25/VIPR/Data/dr_sebelik_data/Images/Paralyzed\", \"/home/schuberte/VIPR/png_images\")"
   ]
  },
  {
   "cell_type": "markdown",
   "id": "c188373b",
   "metadata": {},
   "source": [
    "## Removing Text from Ultrasound Images"
   ]
  },
  {
   "cell_type": "markdown",
   "id": "bc1294cf",
   "metadata": {},
   "source": [
    "The following code reads in the image (in BGR format) then converts it to RGB for outputting on the screen."
   ]
  },
  {
   "cell_type": "code",
   "execution_count": 16,
   "id": "42400c69",
   "metadata": {},
   "outputs": [],
   "source": [
    "def remove_text(input_dir, output_dir):\n",
    "    # Initialize easyOCR reader\n",
    "    reader = easyocr.Reader(['en'], gpu=True)\n",
    "\n",
    "    # Ensure the output directory exists\n",
    "    os.makedirs(output_dir, exist_ok=True)\n",
    "\n",
    "    for filename in os.listdir(input_dir):\n",
    "        img_path = os.path.join(input_dir, filename)\n",
    "\n",
    "        # Read the image\n",
    "        image = cv2.imread(img_path, cv2.IMREAD_COLOR)\n",
    "        if image is None:\n",
    "            print(f\"Skipping {filename}, could not read the image.\")\n",
    "            continue\n",
    "        \n",
    "        # Detect text using easyOCR\n",
    "        results = reader.readtext(image)\n",
    "\n",
    "        # Create a blank mask with the same size as the image\n",
    "        mask = np.zeros(image.shape, dtype=np.uint8)\n",
    "\n",
    "        # Loop through the bounding boxes and fill the areas where text is detected\n",
    "        for (bbox, text, prob) in results:\n",
    "            (top_left, top_right, bottom_right, bottom_left) = bbox\n",
    "            top_left = tuple(map(int, top_left))\n",
    "            bottom_right = tuple(map(int, bottom_right))\n",
    "\n",
    "            # Fill the detected text area with white color (or any color that matches the background)\n",
    "            cv2.rectangle(mask, top_left, bottom_right, (255, 255, 255), thickness=cv2.FILLED)\n",
    "\n",
    "        # Invert the mask (so text area is black and the rest is white)\n",
    "        mask_inv = cv2.bitwise_not(mask)\n",
    "\n",
    "        # Use the mask to remove the text from the image by applying it to the original image\n",
    "        image_no_text = cv2.bitwise_and(image, mask_inv)\n",
    "        \n",
    "        # Save the processed image\n",
    "        output_path = os.path.join(output_dir, filename)\n",
    "        cv2.imwrite(output_path, image_no_text)\n",
    "\n",
    "        print(f\"Processed and saved: {output_path}\")"
   ]
  },
  {
   "cell_type": "markdown",
   "id": "bb4b2260",
   "metadata": {},
   "source": [
    "This following cell loops through all the images in the png_images directory (that are of type .png and are resized to the specified size), and applys a mask to the unwanted text, then saved each image in the masked_image directory."
   ]
  },
  {
   "cell_type": "code",
   "execution_count": 17,
   "id": "e6fe3d13",
   "metadata": {},
   "outputs": [
    {
     "name": "stdout",
     "output_type": "stream",
     "text": [
      "Processed and saved: /home/schuberte/VIPR/masked_images/media8.mp4_frame0.png\n",
      "Processed and saved: /home/schuberte/VIPR/masked_images/media8.mp4_frame20.png\n",
      "Processed and saved: /home/schuberte/VIPR/masked_images/media8.mp4_frame40.png\n",
      "Processed and saved: /home/schuberte/VIPR/masked_images/media8.mp4_frame60.png\n",
      "Processed and saved: /home/schuberte/VIPR/masked_images/media8.mp4_frame80.png\n",
      "Processed and saved: /home/schuberte/VIPR/masked_images/media8.mp4_frame100.png\n",
      "Processed and saved: /home/schuberte/VIPR/masked_images/media8.mp4_frame120.png\n",
      "Processed and saved: /home/schuberte/VIPR/masked_images/media8.mp4_frame140.png\n",
      "Processed and saved: /home/schuberte/VIPR/masked_images/media8.mp4_frame160.png\n",
      "Processed and saved: /home/schuberte/VIPR/masked_images/media8.mp4_frame180.png\n",
      "Processed and saved: /home/schuberte/VIPR/masked_images/media8.mp4_frame200.png\n",
      "Processed and saved: /home/schuberte/VIPR/masked_images/media8.mp4_frame220.png\n",
      "Processed and saved: /home/schuberte/VIPR/masked_images/media8.mp4_frame240.png\n",
      "Processed and saved: /home/schuberte/VIPR/masked_images/media8.mp4_frame260.png\n",
      "Processed and saved: /home/schuberte/VIPR/masked_images/media3.MP4_frame0.png\n",
      "Processed and saved: /home/schuberte/VIPR/masked_images/media3.MP4_frame20.png\n",
      "Processed and saved: /home/schuberte/VIPR/masked_images/media3.MP4_frame40.png\n",
      "Processed and saved: /home/schuberte/VIPR/masked_images/media2.mp4_frame0.png\n",
      "Processed and saved: /home/schuberte/VIPR/masked_images/media2.mp4_frame20.png\n",
      "Processed and saved: /home/schuberte/VIPR/masked_images/media2.mp4_frame40.png\n",
      "Processed and saved: /home/schuberte/VIPR/masked_images/media2.mp4_frame60.png\n",
      "Processed and saved: /home/schuberte/VIPR/masked_images/media2.mp4_frame80.png\n",
      "Processed and saved: /home/schuberte/VIPR/masked_images/media10.mp4_frame0.png\n",
      "Processed and saved: /home/schuberte/VIPR/masked_images/media10.mp4_frame20.png\n",
      "Processed and saved: /home/schuberte/VIPR/masked_images/media10.mp4_frame40.png\n",
      "Processed and saved: /home/schuberte/VIPR/masked_images/media10.mp4_frame60.png\n",
      "Processed and saved: /home/schuberte/VIPR/masked_images/media10.mp4_frame80.png\n",
      "Processed and saved: /home/schuberte/VIPR/masked_images/media10.mp4_frame100.png\n",
      "Processed and saved: /home/schuberte/VIPR/masked_images/media6.mp4_frame0.png\n",
      "Processed and saved: /home/schuberte/VIPR/masked_images/media6.mp4_frame20.png\n",
      "Processed and saved: /home/schuberte/VIPR/masked_images/media6.mp4_frame40.png\n",
      "Processed and saved: /home/schuberte/VIPR/masked_images/media6.mp4_frame60.png\n",
      "Processed and saved: /home/schuberte/VIPR/masked_images/media6.mp4_frame80.png\n",
      "Processed and saved: /home/schuberte/VIPR/masked_images/media4.MP4_frame0.png\n",
      "Processed and saved: /home/schuberte/VIPR/masked_images/media4.MP4_frame20.png\n",
      "Processed and saved: /home/schuberte/VIPR/masked_images/media4.MP4_frame40.png\n",
      "Processed and saved: /home/schuberte/VIPR/masked_images/media9.mp4_frame0.png\n",
      "Processed and saved: /home/schuberte/VIPR/masked_images/media9.mp4_frame20.png\n",
      "Skipping .ipynb_checkpoints, could not read the image.\n",
      "Processed and saved: /home/schuberte/VIPR/masked_images/media9.mp4_frame40.png\n",
      "Processed and saved: /home/schuberte/VIPR/masked_images/media9.mp4_frame60.png\n",
      "Processed and saved: /home/schuberte/VIPR/masked_images/media9.mp4_frame80.png\n",
      "Processed and saved: /home/schuberte/VIPR/masked_images/media9.mp4_frame100.png\n",
      "Processed and saved: /home/schuberte/VIPR/masked_images/media9.mp4_frame120.png\n",
      "Processed and saved: /home/schuberte/VIPR/masked_images/media9.mp4_frame140.png\n",
      "Processed and saved: /home/schuberte/VIPR/masked_images/media9.mp4_frame160.png\n",
      "Processed and saved: /home/schuberte/VIPR/masked_images/media9.mp4_frame180.png\n",
      "Processed and saved: /home/schuberte/VIPR/masked_images/media9.mp4_frame200.png\n",
      "Processed and saved: /home/schuberte/VIPR/masked_images/media9.mp4_frame220.png\n",
      "Processed and saved: /home/schuberte/VIPR/masked_images/image17.png\n",
      "Processed and saved: /home/schuberte/VIPR/masked_images/image19.png\n",
      "Processed and saved: /home/schuberte/VIPR/masked_images/image23.png\n",
      "Processed and saved: /home/schuberte/VIPR/masked_images/image20.png\n",
      "Processed and saved: /home/schuberte/VIPR/masked_images/image21.png\n",
      "Processed and saved: /home/schuberte/VIPR/masked_images/image11.png\n",
      "Processed and saved: /home/schuberte/VIPR/masked_images/image18.png\n",
      "Processed and saved: /home/schuberte/VIPR/masked_images/image25.png\n",
      "Processed and saved: /home/schuberte/VIPR/masked_images/image30.png\n",
      "Processed and saved: /home/schuberte/VIPR/masked_images/image27.png\n",
      "Processed and saved: /home/schuberte/VIPR/masked_images/image26.png\n",
      "Processed and saved: /home/schuberte/VIPR/masked_images/image29.png\n",
      "Processed and saved: /home/schuberte/VIPR/masked_images/image24.png\n",
      "Processed and saved: /home/schuberte/VIPR/masked_images/image28.png\n",
      "Processed and saved: /home/schuberte/VIPR/masked_images/image9.png\n",
      "Processed and saved: /home/schuberte/VIPR/masked_images/croppedImage_43.png\n",
      "Processed and saved: /home/schuberte/VIPR/masked_images/croppedImage_37.png\n",
      "Processed and saved: /home/schuberte/VIPR/masked_images/croppedImage_34.png\n",
      "Processed and saved: /home/schuberte/VIPR/masked_images/croppedImage_31.png\n",
      "Processed and saved: /home/schuberte/VIPR/masked_images/croppedImage_26.png\n",
      "Processed and saved: /home/schuberte/VIPR/masked_images/croppedImage_25.png\n",
      "Processed and saved: /home/schuberte/VIPR/masked_images/croppedImage_23.png\n",
      "Processed and saved: /home/schuberte/VIPR/masked_images/croppedImage_22.png\n",
      "Processed and saved: /home/schuberte/VIPR/masked_images/croppedImage_19.png\n",
      "Processed and saved: /home/schuberte/VIPR/masked_images/croppedImage_13.png\n",
      "Processed and saved: /home/schuberte/VIPR/masked_images/_11.png\n",
      "Processed and saved: /home/schuberte/VIPR/masked_images/_10.png\n",
      "Processed and saved: /home/schuberte/VIPR/masked_images/_10 (2).png\n",
      "Processed and saved: /home/schuberte/VIPR/masked_images/_9.png\n",
      "Processed and saved: /home/schuberte/VIPR/masked_images/_8.png\n",
      "Processed and saved: /home/schuberte/VIPR/masked_images/_8 (3).png\n",
      "Processed and saved: /home/schuberte/VIPR/masked_images/_7 (7).png\n",
      "Processed and saved: /home/schuberte/VIPR/masked_images/_7 (6).png\n",
      "Processed and saved: /home/schuberte/VIPR/masked_images/_7 (5).png\n",
      "Processed and saved: /home/schuberte/VIPR/masked_images/_7 (4).png\n",
      "Processed and saved: /home/schuberte/VIPR/masked_images/_7 (3).png\n",
      "Processed and saved: /home/schuberte/VIPR/masked_images/_6.png\n",
      "Processed and saved: /home/schuberte/VIPR/masked_images/_6 (3).png\n",
      "Processed and saved: /home/schuberte/VIPR/masked_images/_4.png\n",
      "Processed and saved: /home/schuberte/VIPR/masked_images/_4 (2).png\n",
      "Processed and saved: /home/schuberte/VIPR/masked_images/_14.png\n",
      "Processed and saved: /home/schuberte/VIPR/masked_images/_12.png\n",
      "Processed and saved: /home/schuberte/VIPR/masked_images/_8 (5).png\n",
      "Processed and saved: /home/schuberte/VIPR/masked_images/_8 (4).png\n",
      "Processed and saved: /home/schuberte/VIPR/masked_images/_8 (2).png\n",
      "Processed and saved: /home/schuberte/VIPR/masked_images/_7.png\n",
      "Processed and saved: /home/schuberte/VIPR/masked_images/croppedImage_57.png\n",
      "Processed and saved: /home/schuberte/VIPR/masked_images/croppedImage_56.png\n",
      "Processed and saved: /home/schuberte/VIPR/masked_images/croppedImage_55.png\n",
      "Processed and saved: /home/schuberte/VIPR/masked_images/croppedImage_53.png\n",
      "Processed and saved: /home/schuberte/VIPR/masked_images/croppedImage_52.png\n",
      "Processed and saved: /home/schuberte/VIPR/masked_images/croppedImage_51.png\n",
      "Processed and saved: /home/schuberte/VIPR/masked_images/croppedImage_50.png\n",
      "Processed and saved: /home/schuberte/VIPR/masked_images/croppedImage_49.png\n",
      "Processed and saved: /home/schuberte/VIPR/masked_images/croppedImage_48.png\n",
      "Processed and saved: /home/schuberte/VIPR/masked_images/croppedImage_47.png\n",
      "Processed and saved: /home/schuberte/VIPR/masked_images/croppedImage_46.png\n",
      "Processed and saved: /home/schuberte/VIPR/masked_images/croppedImage_45.png\n",
      "Processed and saved: /home/schuberte/VIPR/masked_images/croppedImage_44.png\n",
      "Processed and saved: /home/schuberte/VIPR/masked_images/croppedImage_42.png\n",
      "Processed and saved: /home/schuberte/VIPR/masked_images/croppedImage_41.png\n",
      "Processed and saved: /home/schuberte/VIPR/masked_images/croppedImage_40.png\n"
     ]
    },
    {
     "name": "stdout",
     "output_type": "stream",
     "text": [
      "Processed and saved: /home/schuberte/VIPR/masked_images/croppedImage_39.png\n",
      "Processed and saved: /home/schuberte/VIPR/masked_images/croppedImage_38.png\n",
      "Processed and saved: /home/schuberte/VIPR/masked_images/croppedImage_36.png\n",
      "Processed and saved: /home/schuberte/VIPR/masked_images/croppedImage_35.png\n",
      "Processed and saved: /home/schuberte/VIPR/masked_images/croppedImage_33.png\n",
      "Processed and saved: /home/schuberte/VIPR/masked_images/croppedImage_32.png\n",
      "Processed and saved: /home/schuberte/VIPR/masked_images/croppedImage_30.png\n",
      "Processed and saved: /home/schuberte/VIPR/masked_images/croppedImage_27.png\n",
      "Processed and saved: /home/schuberte/VIPR/masked_images/croppedImage_24.png\n",
      "Processed and saved: /home/schuberte/VIPR/masked_images/croppedImage_21.png\n",
      "Processed and saved: /home/schuberte/VIPR/masked_images/croppedImage_20.png\n",
      "Processed and saved: /home/schuberte/VIPR/masked_images/croppedImage_18.png\n",
      "Processed and saved: /home/schuberte/VIPR/masked_images/croppedImage_17.png\n",
      "Processed and saved: /home/schuberte/VIPR/masked_images/croppedImage_16.png\n",
      "Processed and saved: /home/schuberte/VIPR/masked_images/croppedImage_15.png\n",
      "Processed and saved: /home/schuberte/VIPR/masked_images/croppedImage_12.png\n",
      "Processed and saved: /home/schuberte/VIPR/masked_images/croppedImage_11.png\n",
      "Processed and saved: /home/schuberte/VIPR/masked_images/croppedImage_10.png\n",
      "Processed and saved: /home/schuberte/VIPR/masked_images/croppedImage_9.png\n",
      "Processed and saved: /home/schuberte/VIPR/masked_images/croppedImage_8.png\n",
      "Processed and saved: /home/schuberte/VIPR/masked_images/croppedImage_7.png\n",
      "Processed and saved: /home/schuberte/VIPR/masked_images/croppedImage_6.png\n",
      "Processed and saved: /home/schuberte/VIPR/masked_images/croppedImage_5.png\n",
      "Processed and saved: /home/schuberte/VIPR/masked_images/croppedImage_4.png\n",
      "Processed and saved: /home/schuberte/VIPR/masked_images/croppedImage_3.png\n",
      "Processed and saved: /home/schuberte/VIPR/masked_images/croppedImage_2.png\n",
      "Processed and saved: /home/schuberte/VIPR/masked_images/croppedImage_1.png\n",
      "Processed and saved: /home/schuberte/VIPR/masked_images/_7 (2).png\n",
      "Processed and saved: /home/schuberte/VIPR/masked_images/_6 (4).png\n",
      "Processed and saved: /home/schuberte/VIPR/masked_images/_6 (2).png\n",
      "Processed and saved: /home/schuberte/VIPR/masked_images/_5.png\n",
      "Processed and saved: /home/schuberte/VIPR/masked_images/_5 (5).png\n",
      "Processed and saved: /home/schuberte/VIPR/masked_images/_5 (4).png\n",
      "Processed and saved: /home/schuberte/VIPR/masked_images/_5 (3).png\n",
      "Processed and saved: /home/schuberte/VIPR/masked_images/_5 (2).png\n",
      "Processed and saved: /home/schuberte/VIPR/masked_images/_4 (3).png\n",
      "Processed and saved: /home/schuberte/VIPR/masked_images/_3.png\n",
      "Processed and saved: /home/schuberte/VIPR/masked_images/_2.png\n"
     ]
    }
   ],
   "source": [
    "remove_text(\"/home/schuberte/VIPR/png_images\", \"/home/schuberte/VIPR/masked_images\")"
   ]
  },
  {
   "cell_type": "markdown",
   "id": "6952ce33",
   "metadata": {},
   "source": [
    "## Saving Masked Ultrasound Images to Storage"
   ]
  },
  {
   "cell_type": "code",
   "execution_count": 20,
   "id": "955b37fe",
   "metadata": {},
   "outputs": [
    {
     "name": "stdout",
     "output_type": "stream",
     "text": [
      "Moved the directory to the following location: /data/ai_club/team_13_2024-25/VIPR/masked_images\n"
     ]
    }
   ],
   "source": [
    "dest = shutil.move(\"/home/schuberte/VIPR/masked_images\", \"/data/ai_club/team_13_2024-25/VIPR/\")\n",
    "print(f\"Moved the directory to the following location: {dest}\")"
   ]
  }
 ],
 "metadata": {
  "kernelspec": {
   "display_name": "Python 3 (ipykernel)",
   "language": "python",
   "name": "python3"
  },
  "language_info": {
   "codemirror_mode": {
    "name": "ipython",
    "version": 3
   },
   "file_extension": ".py",
   "mimetype": "text/x-python",
   "name": "python",
   "nbconvert_exporter": "python",
   "pygments_lexer": "ipython3",
   "version": "3.10.12"
  }
 },
 "nbformat": 4,
 "nbformat_minor": 5
}
