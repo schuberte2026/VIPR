{
 "cells": [
  {
   "cell_type": "markdown",
   "id": "2b0b226c",
   "metadata": {},
   "source": [
    "## Purpose\n",
    "The purpose of this notebook to load in all the raw videos and images we have in our dataset. Then convert all images to the .png format. Additionally, the videos will be split into frames that will be saved as .png images."
   ]
  },
  {
   "cell_type": "markdown",
   "id": "fe0d176b",
   "metadata": {},
   "source": [
    "The following cell imports the needed libraries"
   ]
  },
  {
   "cell_type": "code",
   "execution_count": 2,
   "id": "6f985a2a",
   "metadata": {},
   "outputs": [],
   "source": [
    "import numpy as np\n",
    "import pandas as pd\n",
    "import os\n",
    "import matplotlib.pyplot as plt\n",
    "import matplotlib.image as mpimg\n",
    "import cv2\n",
    "import imagesize\n",
    "import csv"
   ]
  },
  {
   "cell_type": "markdown",
   "id": "fa97de7c",
   "metadata": {},
   "source": [
    "The following cell creates the directory where all the png images will be saved."
   ]
  },
  {
   "cell_type": "code",
   "execution_count": 4,
   "id": "68437566",
   "metadata": {},
   "outputs": [],
   "source": [
    "try:\n",
    "    if not os.path.exists('png_images'):\n",
    "        os.makedirs('png_images')\n",
    "except OSError:\n",
    "    print('Error creating data directory.')"
   ]
  },
  {
   "cell_type": "markdown",
   "id": "6595b6cb",
   "metadata": {},
   "source": [
    "Checking that we can access the data"
   ]
  },
  {
   "cell_type": "code",
   "execution_count": 8,
   "id": "8806be08",
   "metadata": {},
   "outputs": [
    {
     "name": "stdout",
     "output_type": "stream",
     "text": [
      "['image17.png', 'image19.png', 'image23.png', 'image20.png', 'image21.png', 'image11.png', 'image18.png', 'image25.png', 'image30.png', 'image27.png', 'image26.png', 'image29.png', 'image24.png', 'image28.png', 'image9.png']\n"
     ]
    }
   ],
   "source": [
    "dir_path = '/data/ai_club/team_13_2024-25/VIPR/Data/Raw Images'\n",
    "contents = os.listdir(dir_path)\n",
    "print(contents)"
   ]
  },
  {
   "cell_type": "markdown",
   "id": "d662f09f",
   "metadata": {},
   "source": [
    "The following function iterates through all images in a directory, converts them to a png if they are not already, then resizes them to a certain size for the model."
   ]
  },
  {
   "cell_type": "code",
   "execution_count": 15,
   "id": "c7b0becb",
   "metadata": {},
   "outputs": [],
   "source": [
    "from PIL import Image\n",
    "import os\n",
    "\n",
    "def resize_images(input_dir, output_dir, size=(224, 244)): # REPLACE SIZE WITH THE MODELS SPECIFICED SIZE\n",
    "    \"\"\"Resizes all images in input_dir to the specified size and saves them as PNG in output_dir.\"\"\"\n",
    "    if not os.path.exists(output_dir):\n",
    "        os.makedirs(output_dir)\n",
    "\n",
    "    for filename in os.listdir(input_dir):\n",
    "        img_path = os.path.join(input_dir, filename)\n",
    "        try:\n",
    "            with Image.open(img_path) as img:\n",
    "                # Convert to PNG if not already PNG\n",
    "                if not filename.lower().endswith(\".png\"):\n",
    "                    filename = os.path.splitext(filename)[0] + \".png\"\n",
    "                \n",
    "                img_resized = img.resize(size, Image.Resampling.LANCZOS)  # Use LANCZOS instead of ANTIALIAS\n",
    "                \n",
    "                # Save in PNG format\n",
    "                img_resized.save(os.path.join(output_dir, filename), format=\"PNG\")\n",
    "        except Exception as e:\n",
    "            print(f\"Skipping {filename}: {e}\")"
   ]
  },
  {
   "cell_type": "code",
   "execution_count": 16,
   "id": "bab6138e",
   "metadata": {},
   "outputs": [],
   "source": [
    "resize_images(\"/data/ai_club/team_13_2024-25/VIPR/Data/Raw Images\", \"/home/schuberte/VIPR/png_images\")"
   ]
  },
  {
   "cell_type": "code",
   "execution_count": 17,
   "id": "11234153",
   "metadata": {},
   "outputs": [],
   "source": [
    "resize_images(\"/data/ai_club/team_13_2024-25/VIPR/Data/dr_sebelik_data/Images/Ambiguous\", \"/home/schuberte/VIPR/png_images\")"
   ]
  },
  {
   "cell_type": "code",
   "execution_count": 18,
   "id": "2386d5bd",
   "metadata": {},
   "outputs": [
    {
     "name": "stdout",
     "output_type": "stream",
     "text": [
      "Skipping .ipynb_checkpoints: [Errno 21] Is a directory: '/data/ai_club/team_13_2024-25/VIPR/Data/dr_sebelik_data/Images/Healthy/.ipynb_checkpoints'\n"
     ]
    }
   ],
   "source": [
    "resize_images(\"/data/ai_club/team_13_2024-25/VIPR/Data/dr_sebelik_data/Images/Healthy\", \"/home/schuberte/VIPR/png_images\")"
   ]
  },
  {
   "cell_type": "code",
   "execution_count": null,
   "id": "79d3158a",
   "metadata": {},
   "outputs": [],
   "source": [
    "## This is current empty. Need to have Will go through \"Ambiguous\" directory to determine which ones are paralyzed, if any.\n",
    "resize_images(\"/data/ai_club/team_13_2024-25/VIPR/Data/dr_sebelik_data/Images/Paralyzed\", \"/home/schuberte/VIPR/png_images\")"
   ]
  },
  {
   "cell_type": "code",
   "execution_count": null,
   "id": "7bded649",
   "metadata": {},
   "outputs": [],
   "source": []
  },
  {
   "cell_type": "markdown",
   "id": "f4b292e3",
   "metadata": {},
   "source": [
    "The following cell contains the function used for converting a video to png images."
   ]
  },
  {
   "cell_type": "code",
   "execution_count": null,
   "id": "4c7ccafe",
   "metadata": {},
   "outputs": [],
   "source": [
    "def video_to_image(filename):\n",
    "    capture = cv2.VideoCapture(filename)\n",
    "    images_created = 0\n",
    "    currentFrame = 0\n",
    "    frameSkip = 20 # Save one frame every 10 frames\n",
    "#     resizeWidth, resizeHeight = 224, 224  # Desired width and height for CNN\n",
    "\n",
    "    while True:\n",
    "        ret, frame = capture.read()\n",
    "        # print(ret)\n",
    "\n",
    "        # Break the loop if no frame is captured\n",
    "        if not ret:\n",
    "            break\n",
    "\n",
    "        # Only save every 'frameSkip'-th frame\n",
    "        if currentFrame % frameSkip == 0:\n",
    "            # Resize the frame\n",
    "#             resized_frame = cv2.resize(frame, (resizeWidth, resizeHeight))\n",
    "\n",
    "            # Save the resized frame\n",
    "            name = f'video_data/{filename.split(\"/\")[-1]}_frame{currentFrame}.jpg'\n",
    "#             name = 'video_data/video_dataframe.jpg'\n",
    "        \n",
    "            print('Creating file:', name)\n",
    "                \n",
    "            cv2.imwrite(name, frame)\n",
    "            images_created += 1\n",
    "\n",
    "        currentFrame += 1\n",
    "\n",
    "    print(f'Images created for {filename}: {images_created}')\n",
    "    capture.release()\n",
    "    cv2.destroyAllWindows()"
   ]
  }
 ],
 "metadata": {
  "kernelspec": {
   "display_name": "Python 3 (ipykernel)",
   "language": "python",
   "name": "python3"
  },
  "language_info": {
   "codemirror_mode": {
    "name": "ipython",
    "version": 3
   },
   "file_extension": ".py",
   "mimetype": "text/x-python",
   "name": "python",
   "nbconvert_exporter": "python",
   "pygments_lexer": "ipython3",
   "version": "3.10.12"
  }
 },
 "nbformat": 4,
 "nbformat_minor": 5
}
